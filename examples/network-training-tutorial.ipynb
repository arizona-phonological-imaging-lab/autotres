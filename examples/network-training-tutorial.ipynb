{
 "cells": [
  {
   "cell_type": "code",
   "execution_count": 48,
   "metadata": {
    "collapsed": false
   },
   "outputs": [],
   "source": [
    "%matplotlib inline\n",
    "import seaborn as sns"
   ]
  },
  {
   "cell_type": "markdown",
   "metadata": {},
   "source": [
    "# Training a network"
   ]
  },
  {
   "cell_type": "markdown",
   "metadata": {},
   "source": [
    "## Logging\n",
    "\n",
    "For most purposes, we are going to want to set our logging level to `INFO`, since some commands are going to run for a long time, and we would like periodic updates."
   ]
  },
  {
   "cell_type": "code",
   "execution_count": 49,
   "metadata": {
    "collapsed": false
   },
   "outputs": [],
   "source": [
    "import logging\n",
    "reload(logging)\n",
    "logging.basicConfig(format='%(asctime)s %(levelname)s:%(message)s', level=logging.INFO, datefmt='%I:%M:%S')\n",
    "#logging.debug('This is a debug message')\n",
    "#logging.basicConfig(level=logging.INFO)"
   ]
  },
  {
   "cell_type": "markdown",
   "metadata": {},
   "source": [
    "## Setting up an `HDF5` database\n",
    "\n",
    "The first step is to create a dataset. This process is mostly abstracted away for you using `a3.Dataset` objects. Your responsibility is to specify how your data is stored and structured. We'll start by specifying some structure. \n",
    "\n",
    "### Keys\n",
    "\n",
    "For the example dataset, there is only a single subject. For this dataset, a combination of a study ID and frame ID is sufficient to pick out a unique datapoint.  We will encode this database key as a list of the form `['study','frame']`. While you might construct a key of additional fields (ex. `subject`), the last element will usually be frame, since that is usually the minimal unit of analysis. \n",
    "\n",
    "Note that these names are arbitrary, as long as you are consistant. Of course using informative names is best practice, since `autotres` has some sensible defaults that rely on certain keys; for example, the default code for extracting images from video relies on a `'frame'` key."
   ]
  },
  {
   "cell_type": "code",
   "execution_count": 50,
   "metadata": {
    "collapsed": true
   },
   "outputs": [],
   "source": [
    "keys = ['study', 'frame']"
   ]
  },
  {
   "cell_type": "markdown",
   "metadata": {},
   "source": [
    "### Types\n",
    "\n",
    "Next, we need to be able to tell autotres about the types of files we have, the types of data they represent, and what levels of the key heirarchy each piece of data should be associated with. This will mostly be accomplished with regular expressions. We create a dict of data types. The keys of the dict represent data type names. Note that we will want one type for each type of data we want, not for each type of file we have. `autotres` is perfectly happy pulling more than one type of information from a file. \n",
    "\n",
    "These are again arbitrary labels, but autotres can provide some sensible default behaviors for certain labels. Each dict contains information about that type:\n",
    "\n",
    "#### `'conflict'`: How to deal with multiple files of the same type appearing for same combination of identifiers. \n",
    "\n",
    "For example, If I have multiple tracers on my team, then I would expect to have multiple 'trace' files for each combination of 'subject' and 'frame'. In this case, I would like to keep all of the traces for the same image, so that I can do something sensible with it, like interpolate. In this case I will set the value for 'conflict' to 'list'. \n",
    "\n",
    "Similarly, if I have conducted multiple studies with my dataset, one looking at coronals and one looking at fricatives, I would expect to have multiple copies of the images for coronal fricatives. However, unlike the instance with multiple traces, `fricative_frame-00042.png` and `coronal_frame-00042.png` should be identical files. I can use the 'hash' option to specify that I should ignore duplicates as long as they are the same, but should raise an exception if they don't.\n",
    "\n",
    "Finally, there are some situations that I simply expect not to happen. For example, if a single subject is associated with more that one 'audio' file, then perhaps it is most likely that somebdy mislabeled something. In this case, I would not set 'conflict' to anything, and if there is a conflict, autotres will raise an exception automatically\n",
    "\n",
    "#### `'regex'`: How to associate each file with a combination of heirachical levels.\n",
    "\n",
    "This is a regular expression that will match a filename in the dataset. We use the `(?P<label>...)` syntax to capture parts of the filename that are informative. Specifically, we need to be able to infer all the relevent heirarchical information from the file name. This should be a left-substring of the keys list. \n",
    "\n",
    "Note that the regex is matched to the entire pathname, relative to whatever path we give it (see below). Here, we have also used the `(?x)` flag to allow us to break the regex over multiple lines, and to include comments."
   ]
  },
  {
   "cell_type": "code",
   "execution_count": 51,
   "metadata": {
    "collapsed": false
   },
   "outputs": [],
   "source": [
    "import os\n",
    "import re\n",
    "\n",
    "types = {\n",
    "    'trace': {\n",
    "        'regex': r\"\"\"(?x)\n",
    "            (?P<study>\\d+\\w+)              # in the example dataset, a 'study' is encoded in the image name as the substring preceding an '_'\n",
    "            _(?P<frame>\\d+)\\.(?:jpg|png)   # the frame number\n",
    "            \\.(?P<tracer>\\w+)              # the tracer id\n",
    "            \\.traced\\.txt$\"\"\",\n",
    "        'conflict': 'list'\n",
    "        },\n",
    "    'image': {\n",
    "        'regex': r\"\"\"(?x)\n",
    "            (?P<study>\\d+\\w+)\n",
    "            _(?P<frame>\\d+)\n",
    "            \\.(?P<ext>jpg|png)$\"\"\",\n",
    "        'conflict': 'hash'\n",
    "        },\n",
    "    'name': {\n",
    "        'regex': r\"\"\"(?x)\n",
    "            (?P<fname>(?P<study>\\d+\\w+)\n",
    "                _(?P<frame>\\d+)\n",
    "                \\.(?P<ext>jpg|png)\n",
    "            )$\"\"\",\n",
    "        }\n",
    "    }"
   ]
  },
  {
   "cell_type": "markdown",
   "metadata": {},
   "source": [
    "### Creating the dataset\n",
    "\n",
    "We will now set up our dataset. The `roi`, `n_points`, and `scale` `kwargs` will be passed down to the default data extraction callbacks (see [`a3/dataset.py`](../a3/dataset.py) documentation). Custom callbacks can be provided by putting a callable in the ds.callbacks dict. These should return a numpy array of type `float32`. \n",
    "\n",
    "If you don't have CUDA properly installed, importing a3 will throw some errors about nvcc (nvidia cuda compiler) not being found. This is fine so long as you are fine with only using the CPU (instead of the GPU) to train."
   ]
  },
  {
   "cell_type": "code",
   "execution_count": 53,
   "metadata": {
    "collapsed": false,
    "scrolled": false
   },
   "outputs": [],
   "source": [
    "import a3\n",
    "ds = a3.Dataset('example.hdf5',roi=(140.,320.,250.,580.),n_points=32,scale=.1)"
   ]
  },
  {
   "cell_type": "markdown",
   "metadata": {},
   "source": [
    "The directory containing our data is `example_data`. You can scan multiple directories if you need to, possibly with different type definitions, but watch out for file conflicts! Your heirarchy should be the same accross calls to `scan_directory`. For large datasets may take a while to complete, since it is doing a full walk of the file heirarchy."
   ]
  },
  {
   "cell_type": "code",
   "execution_count": 54,
   "metadata": {
    "collapsed": false
   },
   "outputs": [],
   "source": [
    "d = 'example_data'"
   ]
  },
  {
   "cell_type": "code",
   "execution_count": 55,
   "metadata": {
    "collapsed": false
   },
   "outputs": [],
   "source": [
    "ds.scan_directory(d,types,keys)"
   ]
  },
  {
   "cell_type": "markdown",
   "metadata": {},
   "source": [
    "At this point, you can inspect what data sources you have by looking at the `ds.sources` dict. This `dict` can get very large, so be cautious about printing the whole of it to `stdout`."
   ]
  },
  {
   "cell_type": "code",
   "execution_count": 56,
   "metadata": {
    "collapsed": false
   },
   "outputs": [
    {
     "data": {
      "text/plain": [
       "['20110518JF', '20110826JF', '20110829PB']"
      ]
     },
     "execution_count": 56,
     "metadata": {},
     "output_type": "execute_result"
    }
   ],
   "source": [
    "ds.sources.keys()\n",
    "#ds.sources.items()[0]"
   ]
  },
  {
   "cell_type": "markdown",
   "metadata": {},
   "source": [
    "Once you have your data sources figured out, you can extract that data with ds.read_sources(). The arg here is a set-like object with all of the data types you need. This will take a while, since it is opening and processing a lot of files."
   ]
  },
  {
   "cell_type": "code",
   "execution_count": 57,
   "metadata": {
    "collapsed": false
   },
   "outputs": [],
   "source": [
    "ds.read_sources(['trace','image','name'])"
   ]
  },
  {
   "cell_type": "markdown",
   "metadata": {},
   "source": [
    "## Training a network\n",
    "\n",
    "The rest is easy. Construct an `Autotracer` from your new dataset. Specifying `None` for the validation set sets aside part of your training data as validation data (no guarantees about randomness). Make sure you use the same ROI as above, or at least the same size."
   ]
  },
  {
   "cell_type": "code",
   "execution_count": 58,
   "metadata": {
    "collapsed": false
   },
   "outputs": [
    {
     "name": "stderr",
     "output_type": "stream",
     "text": [
      "04:31:40 INFO:initializing model\n",
      "04:31:41 INFO:compiling theano functions\n"
     ]
    }
   ],
   "source": [
    "a = a3.Autotracer('example.hdf5', None, roi=(140.,320.,250.,580.))"
   ]
  },
  {
   "cell_type": "markdown",
   "metadata": {
    "collapsed": true
   },
   "source": [
    "To train on your dataset, simply call the `train()` method. In reality, training will require thousands of epochs (runs through the entire dataset), but for time we will just train a couple times. Minibatch size can be controlled with the `minibatch` kwarg, which defaults to `512`. If your logging level is set to INFO you will see the training loss and validation loss at the end of each epoch."
   ]
  },
  {
   "cell_type": "code",
   "execution_count": 59,
   "metadata": {
    "collapsed": false
   },
   "outputs": [
    {
     "name": "stderr",
     "output_type": "stream",
     "text": [
      "04:31:43 INFO:Training\n",
      "04:31:43 INFO:Epoch: 1, train_loss=0.123271, valid_loss=0.148709\n",
      "04:31:43 INFO:Epoch: 2, train_loss=0.121601, valid_loss=0.143208\n",
      "04:31:44 INFO:Epoch: 3, train_loss=0.118128, valid_loss=0.135538\n",
      "04:31:44 INFO:Epoch: 4, train_loss=0.114214, valid_loss=0.125975\n",
      "04:31:44 INFO:Epoch: 5, train_loss=0.107150, valid_loss=0.114751\n",
      "04:31:44 INFO:Epoch: 6, train_loss=0.098259, valid_loss=0.102859\n",
      "04:31:44 INFO:Epoch: 7, train_loss=0.087813, valid_loss=0.090623\n",
      "04:31:44 INFO:Epoch: 8, train_loss=0.080423, valid_loss=0.078934\n",
      "04:31:44 INFO:Epoch: 9, train_loss=0.070577, valid_loss=0.068480\n",
      "04:31:44 INFO:Epoch: 10, train_loss=0.062668, valid_loss=0.060005\n"
     ]
    }
   ],
   "source": [
    "a.train(10)"
   ]
  },
  {
   "cell_type": "markdown",
   "metadata": {},
   "source": [
    "Make sure you save your weights! Note that the resulting file doesn't contain any information about the layout of the NNet -- that's still in the works. To change layouts, change the code in `a3.Autotrace.__init_layers()`."
   ]
  },
  {
   "cell_type": "code",
   "execution_count": 60,
   "metadata": {
    "collapsed": true
   },
   "outputs": [],
   "source": [
    "a.save('example.a3.npy')"
   ]
  },
  {
   "cell_type": "markdown",
   "metadata": {},
   "source": [
    "## Testing a network\n",
    "\n",
    "Get the traces for your dataset! This will create a file named `original_test.json` that can be used with the APIL web tracer. The remaining positional arguments are the filenames for the images, the tracer ID, and subject ID."
   ]
  },
  {
   "cell_type": "code",
   "execution_count": 61,
   "metadata": {
    "collapsed": false
   },
   "outputs": [],
   "source": [
    "import h5py\n",
    "with h5py.File('example.hdf5','r') as h:\n",
    "    # trace all images used in training\n",
    "    a.trace(h['image'], 'example_test.json', h['name'],'autotrace_test','001')"
   ]
  },
  {
   "cell_type": "markdown",
   "metadata": {},
   "source": [
    "This output can be easily inspected using the `json` module:"
   ]
  },
  {
   "cell_type": "code",
   "execution_count": 62,
   "metadata": {
    "collapsed": false
   },
   "outputs": [
    {
     "data": {
      "text/plain": [
       "100"
      ]
     },
     "execution_count": 62,
     "metadata": {},
     "output_type": "execute_result"
    }
   ],
   "source": [
    "import json\n",
    "len(json.load(open('example_test.json', 'r'))['trace-data'])"
   ]
  },
  {
   "cell_type": "markdown",
   "metadata": {},
   "source": [
    "If you want to know your loss, you can train and test with the same dataset. "
   ]
  },
  {
   "cell_type": "code",
   "execution_count": 63,
   "metadata": {
    "collapsed": false
   },
   "outputs": [
    {
     "name": "stderr",
     "output_type": "stream",
     "text": [
      "04:31:45 INFO:initializing model\n",
      "04:31:45 INFO:compiling theano functions\n",
      "04:31:47 INFO:Training\n",
      "04:31:47 INFO:Epoch: 1, train_loss=0.131458, valid_loss=0.136041\n"
     ]
    }
   ],
   "source": [
    "b = a3.Autotracer(train='example.hdf5', test='example.hdf5', roi=(140.,320.,250.,580.))\n",
    "b.train(1)"
   ]
  }
 ],
 "metadata": {
  "kernelspec": {
   "display_name": "Python 2",
   "language": "python",
   "name": "python2"
  },
  "language_info": {
   "codemirror_mode": {
    "name": "ipython",
    "version": 2
   },
   "file_extension": ".py",
   "mimetype": "text/x-python",
   "name": "python",
   "nbconvert_exporter": "python",
   "pygments_lexer": "ipython2",
   "version": "2.7.10"
  }
 },
 "nbformat": 4,
 "nbformat_minor": 0
}
